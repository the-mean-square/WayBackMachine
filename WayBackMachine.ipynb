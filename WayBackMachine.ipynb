{
 "cells": [
  {
   "cell_type": "code",
   "execution_count": null,
   "id": "addb7a3e",
   "metadata": {},
   "outputs": [],
   "source": [
    "import webbrowser \n",
    "import json\n",
    "from urllib.request import urlopen\n",
    "\n",
    "# The imports used: standard library module called webbrowser; json module; urlopen from urllib.request module\n",
    "\n",
    "\n",
    "#Text for context\n",
    "print(\"Let's travel back in time.\")\n",
    "\n",
    "# Save user inputs to variables site [URL] and era [DATE]\n",
    "site = input(\"Enter URL:\")\n",
    "era = input(\"Type a year, month and day - Eg.20100129\")\n",
    "\n",
    "#String variable url for wayback machine to display site for date entered\n",
    "url = \"http://archive.org/wayback/available?url=%s&timestamp=%s\" % (site,era)\n",
    "\n",
    "#connect to the web server at the URL and request a particular web service \n",
    "response = urlopen(url)\n",
    "\n",
    "#assign response to variable contents\n",
    "contents = response.read()\n",
    "\n",
    "#decode contents to text string in JSON and and assign to variable text \n",
    "text = contents.decode(\"utf-8\")\n",
    "\n",
    "#convert text to python data structure\n",
    "data = json.loads(text)\n",
    "\n",
    "#Error check: Try to run next 4 lines - if any fail -->run the exception\n",
    "# If we get a match for the URL and date entered, extract its value from a 3 level dictionary \n",
    "try:\n",
    "    old_site = data[\"archived_snapshots\"][\"closest\"][\"url\"]\n",
    "    print(\"Found this copy:\" , old_site)\n",
    "    print(\"It should appear in your browser NOW.\")\n",
    "    webbrowser.open(old_site)\n",
    "except:\n",
    "    print(\"Sorry mate, no luck finding\", site)"
   ]
  }
 ],
 "metadata": {
  "kernelspec": {
   "display_name": "Python 3 (ipykernel)",
   "language": "python",
   "name": "python3"
  },
  "language_info": {
   "codemirror_mode": {
    "name": "ipython",
    "version": 3
   },
   "file_extension": ".py",
   "mimetype": "text/x-python",
   "name": "python",
   "nbconvert_exporter": "python",
   "pygments_lexer": "ipython3",
   "version": "3.9.13"
  }
 },
 "nbformat": 4,
 "nbformat_minor": 5
}
